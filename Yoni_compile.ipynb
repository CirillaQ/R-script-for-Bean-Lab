{
  "nbformat": 4,
  "nbformat_minor": 0,
  "metadata": {
    "colab": {
      "provenance": [],
      "authorship_tag": "ABX9TyO9k48IYSR2Ynd4AE7SQvuO",
      "include_colab_link": true
    },
    "kernelspec": {
      "name": "python3",
      "display_name": "Python 3"
    },
    "language_info": {
      "name": "python"
    }
  },
  "cells": [
    {
      "cell_type": "markdown",
      "metadata": {
        "id": "view-in-github",
        "colab_type": "text"
      },
      "source": [
        "<a href=\"https://colab.research.google.com/github/CirillaQ/R-script-for-Bean-Lab/blob/main/Yoni_compile.ipynb\" target=\"_parent\"><img src=\"https://colab.research.google.com/assets/colab-badge.svg\" alt=\"Open In Colab\"/></a>"
      ]
    },
    {
      "cell_type": "code",
      "execution_count": null,
      "metadata": {
        "id": "uwB45ycnZgWc"
      },
      "outputs": [],
      "source": [
        "%load_ext rpy2.ipython"
      ]
    },
    {
      "cell_type": "code",
      "source": [
        "# Restart runtime (after installing 3.5.1)\n",
        "import os\n",
        "os.kill(os.getpid(), 9)"
      ],
      "metadata": {
        "id": "COaPwA8_6v2t"
      },
      "execution_count": null,
      "outputs": []
    },
    {
      "cell_type": "code",
      "source": [
        "# rpy2 == 3.5.5 does not work\n",
        "!pip install rpy2==3.5.1"
      ],
      "metadata": {
        "colab": {
          "base_uri": "https://localhost:8080/"
        },
        "id": "VzMwMn1_a5O1",
        "outputId": "4f187404-f5d6-490a-d272-80d498638702"
      },
      "execution_count": null,
      "outputs": [
        {
          "output_type": "stream",
          "name": "stdout",
          "text": [
            "Looking in indexes: https://pypi.org/simple, https://us-python.pkg.dev/colab-wheels/public/simple/\n",
            "Requirement already satisfied: rpy2==3.5.1 in /usr/local/lib/python3.9/dist-packages (3.5.1)\n",
            "Requirement already satisfied: cffi>=1.10.0 in /usr/local/lib/python3.9/dist-packages (from rpy2==3.5.1) (1.15.1)\n",
            "Requirement already satisfied: pytz in /usr/local/lib/python3.9/dist-packages (from rpy2==3.5.1) (2022.7.1)\n",
            "Requirement already satisfied: jinja2 in /usr/local/lib/python3.9/dist-packages (from rpy2==3.5.1) (3.1.2)\n",
            "Requirement already satisfied: tzlocal in /usr/local/lib/python3.9/dist-packages (from rpy2==3.5.1) (4.3)\n",
            "Requirement already satisfied: pycparser in /usr/local/lib/python3.9/dist-packages (from cffi>=1.10.0->rpy2==3.5.1) (2.21)\n",
            "Requirement already satisfied: MarkupSafe>=2.0 in /usr/local/lib/python3.9/dist-packages (from jinja2->rpy2==3.5.1) (2.1.2)\n",
            "Requirement already satisfied: pytz-deprecation-shim in /usr/local/lib/python3.9/dist-packages (from tzlocal->rpy2==3.5.1) (0.1.0.post0)\n",
            "Requirement already satisfied: tzdata in /usr/local/lib/python3.9/dist-packages (from pytz-deprecation-shim->tzlocal->rpy2==3.5.1) (2023.3)\n"
          ]
        }
      ]
    },
    {
      "cell_type": "code",
      "source": [
        "# R testing\n",
        "# %%R\n",
        "# x <- 5\n",
        "# x"
      ],
      "metadata": {
        "colab": {
          "base_uri": "https://localhost:8080/"
        },
        "id": "HDhQQLl7ZmWL",
        "outputId": "872ceacf-9955-4517-daac-23b5a5ec3e8d"
      },
      "execution_count": null,
      "outputs": [
        {
          "output_type": "stream",
          "name": "stdout",
          "text": [
            "[1] 5\n"
          ]
        }
      ]
    },
    {
      "cell_type": "code",
      "source": [
        "from google.colab import drive\n",
        "drive.mount('/content/gdrive/')"
      ],
      "metadata": {
        "colab": {
          "base_uri": "https://localhost:8080/"
        },
        "id": "AaHMiBu8b1tH",
        "outputId": "66eb56b1-59d5-4a29-cab5-b0440171b385"
      },
      "execution_count": null,
      "outputs": [
        {
          "output_type": "stream",
          "name": "stdout",
          "text": [
            "Drive already mounted at /content/gdrive/; to attempt to forcibly remount, call drive.mount(\"/content/gdrive/\", force_remount=True).\n"
          ]
        }
      ]
    },
    {
      "cell_type": "code",
      "source": [
        "%%R\n",
        "library(tidyverse)\n",
        "library(stringr)"
      ],
      "metadata": {
        "id": "jEgTFwiHcXj_",
        "colab": {
          "base_uri": "https://localhost:8080/"
        },
        "outputId": "dfff51d3-980b-44f2-ecf5-1b2f60aaa42b"
      },
      "execution_count": null,
      "outputs": [
        {
          "output_type": "stream",
          "name": "stderr",
          "text": [
            "WARNING:rpy2.rinterface_lib.callbacks:R[write to console]: ── Attaching packages ─────────────────────────────────────── tidyverse 1.3.1 ──\n",
            "\n",
            "WARNING:rpy2.rinterface_lib.callbacks:R[write to console]: ✔ ggplot2 3.4.1     ✔ purrr   1.0.1\n",
            "✔ tibble  3.2.1     ✔ dplyr   1.1.1\n",
            "✔ tidyr   1.3.0     ✔ stringr 1.4.1\n",
            "✔ readr   2.1.4     ✔ forcats 1.0.0\n",
            "\n",
            "WARNING:rpy2.rinterface_lib.callbacks:R[write to console]: ── Conflicts ────────────────────────────────────────── tidyverse_conflicts() ──\n",
            "✖ dplyr::filter() masks stats::filter()\n",
            "✖ dplyr::lag()    masks stats::lag()\n",
            "\n"
          ]
        }
      ]
    },
    {
      "cell_type": "code",
      "source": [
        "# verify current directory\n",
        "# !pwd"
      ],
      "metadata": {
        "id": "Zb4mp7iMnG5r"
      },
      "execution_count": null,
      "outputs": []
    },
    {
      "cell_type": "code",
      "source": [
        "%%R\n",
        "setwd(\"/content/gdrive/My Drive/Umber UROP for Fall 22/Data/All csv files_Yoni/\")\n",
        "# list.files(pattern=\"*.csv\")\n",
        "# Use .* for matching any kind of character except line breaks\n",
        "files <- list.files(pattern=\"^C.*\\\\.csv$\")\n",
        "# dataFiles <- lapply(Sys.glob(\"*_FNAME_V*.csv\"), read.csv)\n",
        "# files <- dir(pattern = \"*_FNAME_V*.csv\")\n",
        "# list.files(path = \"dataFiles\")\n",
        "\n",
        "# Check if the file exists\n",
        "# files\n",
        "\n",
        "files"
      ],
      "metadata": {
        "id": "dD7xOFfh41A_",
        "colab": {
          "base_uri": "https://localhost:8080/"
        },
        "outputId": "5a8f6eb0-43ba-4986-f431-4c65eca423a7"
      },
      "execution_count": null,
      "outputs": [
        {
          "output_type": "stream",
          "name": "stdout",
          "text": [
            " [1] \"Copy of 1001_log.csv\"     \"Copy of 1002_log.csv\"    \n",
            " [3] \"Copy of 1004_log.csv\"     \"Copy of 1005_log.csv\"    \n",
            " [5] \"Copy of 1006_log.csv\"     \"Copy of 1007_log.csv\"    \n",
            " [7] \"Copy of 1009_log.csv\"     \"Copy of 1015_log (1).csv\"\n",
            " [9] \"Copy of 1017_log.csv\"     \"Copy of 1019_log.csv\"    \n",
            "[11] \"Copy of 1020_log.csv\"     \"Copy of 1021_log.csv\"    \n",
            "[13] \"Copy of 1022_log.csv\"     \"Copy of 1023_log.csv\"    \n",
            "[15] \"Copy of 1025_log.csv\"     \"Copy of 1026_log.csv\"    \n",
            "[17] \"Copy of 1027_log.csv\"     \"Copy of 1029_log.csv\"    \n",
            "[19] \"Copy of 1033_log.csv\"     \"Copy of 1035_log.csv\"    \n",
            "[21] \"Copy of 1036_log.csv\"     \"Copy of 1037_log.csv\"    \n",
            "[23] \"Copy of 1038_log.csv\"     \"Copy of 1039_log.csv\"    \n",
            "[25] \"Copy of 1041_log.csv\"     \"Copy of 1042_log.csv\"    \n",
            "[27] \"Copy of 1045_log.csv\"     \"Copy of 1047_log.csv\"    \n",
            "[29] \"Copy of 1049_log.csv\"     \"Copy of 1050_log.csv\"    \n",
            "[31] \"Copy of 1051_log.csv\"     \"Copy of 1052_log.csv\"    \n",
            "[33] \"Copy of 1053_log.csv\"     \"Copy of 1055_log.csv\"    \n",
            "[35] \"Copy of 1056_log.csv\"     \"Copy of 1057_log.csv\"    \n",
            "[37] \"Copy of 1058_log.csv\"     \"Copy of 1059_log.csv\"    \n",
            "[39] \"Copy of 1060_log.csv\"     \"Copy of 1061_log.csv\"    \n",
            "[41] \"Copy of 1062_log.csv\"     \"Copy of 1063_log.csv\"    \n",
            "[43] \"Copy of 1064_log.csv\"     \"Copy of 1066_log.csv\"    \n",
            "[45] \"Copy of 1067_log.csv\"     \"Copy of 1069_log.csv\"    \n",
            "[47] \"Copy of 1071_log.csv\"     \"Copy of 1072_log.csv\"    \n",
            "[49] \"Copy of 1073_log.csv\"     \"Copy of 1075_log.csv\"    \n",
            "[51] \"Copy of 1076_log.csv\"     \"Copy of 1077_log.csv\"    \n",
            "[53] \"Copy of 1079_log.csv\"     \"Copy of 1080_log.csv\"    \n",
            "[55] \"Copy of 1082_log.csv\"     \"Copy of 1086_log.csv\"    \n",
            "[57] \"Copy of 1087_log.csv\"     \"Copy of 1089_log.csv\"    \n",
            "[59] \"Copy of 1091_log.csv\"     \"Copy of 1096_log.csv\"    \n",
            "[61] \"Copy of 1098_log.csv\"     \"Copy of 1099_log.csv\"    \n",
            "[63] \"Copy of 1101_log.csv\"     \"Copy of 1102_log.csv\"    \n",
            "[65] \"Copy of 1104_log.csv\"     \"Copy of 1105_log.csv\"    \n",
            "[67] \"Copy of 1109_log.csv\"     \"Copy of 1110_log.csv\"    \n",
            "[69] \"Copy of 1112_log.csv\"     \"Copy of 1120_log.csv\"    \n",
            "[71] \"Copy of 1124_log.csv\"     \"Copy of 1128_log.csv\"    \n",
            "[73] \"Copy of 1131_log.csv\"     \"Copy of 1136_log.csv\"    \n",
            "[75] \"Copy of 1143_log.csv\"     \"Copy of 1146_log.csv\"    \n",
            "[77] \"Copy of 1158_log.csv\"     \"Copy of 1166_log.csv\"    \n",
            "[79] \"Copy of 1167_log.csv\"     \"Copy of 1178_log.csv\"    \n",
            "[81] \"Copy of 1179_log.csv\"     \"Copy of 1181_log.csv\"    \n",
            "[83] \"Copy of 1191_log.csv\"     \"Copy of 1193_log.csv\"    \n",
            "[85] \"Copy of 11992.csv\"       \n"
          ]
        }
      ]
    },
    {
      "cell_type": "code",
      "source": [
        "# Read and store data frames\n",
        "%%R\n",
        "l <- length(files)\n",
        "y_collect <- tibble()\n",
        "ID_collect <- tibble()\n",
        "D_collect <- tibble()\n",
        "for(i in 1:l) {\n",
        "         assign(\"FData\", read.csv(paste0(\"/content/gdrive/My Drive/Umber UROP for Fall 22/Data/All csv files_Yoni/\",files[i])))\n",
        "         ID <- str_extract(files[i],'[0-9]{4,5}')\n",
        "\n",
        "         # Select columns for the data\n",
        "         FD <- select(FData, Subj, Trial, Stim, Correct)\n",
        "        \n",
        "         # Filter out blank columns\n",
        "         FD <- filter(FD, !row_number() %in% c(1:3,58))\n",
        "\n",
        "\n",
        "         #\n",
        "         D_collect <- rbind(D_collect, FD)\n",
        "\n",
        "         # \\\\<TRUE\\\\> is for the specific word, \"True\" is any word that has TRUE in it.\n",
        "         x <- FData$Correct\n",
        "         y <- length(grep(\"\\\\<True\\\\>\", x)) \n",
        "\n",
        "         \n",
        "         # Score of name df\n",
        "         y_collect <- rbind(y_collect,y)\n",
        "\n",
        "         # ID df\n",
        "         ID_collect <- rbind(ID_collect,ID)\n",
        "}\n",
        "\n",
        "FResults <- data.frame(ID_collect,\n",
        "                       y_collect)\n",
        "\n",
        "\n",
        "colnames(FResults) <- c('ID','Score')\n",
        "# Filter out rows with a specific string\n",
        "         FResults <- FResults[!grepl(\"1078\", FResults$ID), ]\n",
        "         FResults <- FResults[!grepl(\"1163\", FResults$ID), ]\n",
        "         FResults <- FResults[!grepl(\"1022\", FResults$ID), ]\n",
        "         FResults <- FResults[!grepl(\"1057\", FResults$ID), ]\n",
        "         D_collect <- D_collect[!grepl(\"1078\", D_collect$Subj), ]\n",
        "         D_collect <- D_collect[!grepl(\"1163\", D_collect$Subj), ]\n",
        "         D_collect <- D_collect[!grepl(\"1022\", D_collect$Subj), ]\n",
        "         D_collect <- D_collect[!grepl(\"1057\", D_collect$Subj), ]\n",
        "\n",
        "FResults"
      ],
      "metadata": {
        "colab": {
          "base_uri": "https://localhost:8080/"
        },
        "id": "2lG5XJU7KdCS",
        "outputId": "05d92f8c-d503-4b64-d109-092a076fcf48"
      },
      "execution_count": null,
      "outputs": [
        {
          "output_type": "stream",
          "name": "stdout",
          "text": [
            "      ID Score\n",
            "1   1001    49\n",
            "2   1002    44\n",
            "3   1004    53\n",
            "4   1005    50\n",
            "5   1006    54\n",
            "6   1007    53\n",
            "7   1009    50\n",
            "8   1015    29\n",
            "9   1017    47\n",
            "10  1019    51\n",
            "11  1020    47\n",
            "12  1021    50\n",
            "14  1023    48\n",
            "15  1025    51\n",
            "16  1026    50\n",
            "17  1027    55\n",
            "18  1029    54\n",
            "19  1033    50\n",
            "20  1035    53\n",
            "21  1036    51\n",
            "22  1037    53\n",
            "23  1038    44\n",
            "24  1039    48\n",
            "25  1041    53\n",
            "26  1042    54\n",
            "27  1045    52\n",
            "28  1047    54\n",
            "29  1049    51\n",
            "30  1050    51\n",
            "31  1051    53\n",
            "32  1052    52\n",
            "33  1053    47\n",
            "34  1055    52\n",
            "35  1056    51\n",
            "37  1058    45\n",
            "38  1059    48\n",
            "39  1060    53\n",
            "40  1061    44\n",
            "41  1062    54\n",
            "42  1063    48\n",
            "43  1064    45\n",
            "44  1066    50\n",
            "45  1067    52\n",
            "46  1069    52\n",
            "47  1071    49\n",
            "48  1072    55\n",
            "49  1073    52\n",
            "50  1075    50\n",
            "51  1076    48\n",
            "52  1077    48\n",
            "53  1079    50\n",
            "54  1080    48\n",
            "55  1082    37\n",
            "56  1086    47\n",
            "57  1087    40\n",
            "58  1089    51\n",
            "59  1091    45\n",
            "60  1096    49\n",
            "61  1098    48\n",
            "62  1099    49\n",
            "63  1101    55\n",
            "64  1102    51\n",
            "65  1104    55\n",
            "66  1105    50\n",
            "67  1109    51\n",
            "68  1110    55\n",
            "69  1112    47\n",
            "70  1120    48\n",
            "71  1124    51\n",
            "72  1128    55\n",
            "73  1131    53\n",
            "74  1136    52\n",
            "75  1143    43\n",
            "76  1146    46\n",
            "77  1158    43\n",
            "78  1166    50\n",
            "79  1167    51\n",
            "80  1178    53\n",
            "81  1179    49\n",
            "82  1181    53\n",
            "83  1191    52\n",
            "84  1193    47\n",
            "85 11992    52\n"
          ]
        }
      ]
    },
    {
      "cell_type": "code",
      "source": [
        "# %cd into your google drive folder and then execute your code in order to write files there \n",
        "# (Maybe only for users who does not have full acceess)\n",
        "%cd /content/gdrive/My Drive/Umber UROP for Fall 22/Data/Script and Data Output/"
      ],
      "metadata": {
        "colab": {
          "base_uri": "https://localhost:8080/"
        },
        "id": "rTN589o96EjM",
        "outputId": "2effd337-01c4-4b69-adfa-59c593962e91"
      },
      "execution_count": null,
      "outputs": [
        {
          "output_type": "stream",
          "name": "stdout",
          "text": [
            "/content/gdrive/.shortcut-targets-by-id/1EhqhS2t3WDUpWbRCBRRwQ1mGiLU4yq2w/Umber UROP for Fall 22/Data/Script and Data Output\n"
          ]
        }
      ]
    },
    {
      "cell_type": "code",
      "source": [
        "%%R\n",
        "print(\"Writing CSVs...\")\n",
        "path_out <- \"/content/gdrive/My Drive/Umber UROP for Fall 22/Data/Script and Data Output/\"\n",
        "write.csv(FResults, file.path(path_out, \"Yoni_Score.csv\"))\n",
        "write.csv(D_collect, file.path(path_out, \"Yoni_Cleaned Data.csv\"))\n",
        "print(\"CSVs have been created.\")"
      ],
      "metadata": {
        "colab": {
          "base_uri": "https://localhost:8080/"
        },
        "id": "btObbgPMYxwO",
        "outputId": "ea5b4530-f577-42ee-a9f7-8cf76f2948ec"
      },
      "execution_count": null,
      "outputs": [
        {
          "output_type": "stream",
          "name": "stdout",
          "text": [
            "[1] \"Writing CSVs...\"\n",
            "[1] \"CSVs have been created.\"\n"
          ]
        }
      ]
    }
  ]
}